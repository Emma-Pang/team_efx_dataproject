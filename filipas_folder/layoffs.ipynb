{
 "cells": [
  {
   "cell_type": "code",
   "execution_count": null,
   "metadata": {},
   "outputs": [],
   "source": [
    "import pandas as pd\n",
    "import prettytable as pt  \n",
    "\n",
    "# headers = {'Content-type': 'application/json'}\n",
    "# data = json.dumps({\"seriesid\": ['JTU00000000LDR','JTU000000MWLDR','JTU000000NELDR','JTU000000SOLDR',\n",
    "#                                 'JTU000000WELDR'],\"startyear\":\"1999\", \"endyear\":\"2018\"})\n",
    "\n",
    "# RATE OF LAYOFFS AND DISCHARGES, NON-SEASONALLY ADJUSTED:\n",
    "#    00 = TOTAL US, MW = MIDWEST, NE = NORTHEAST, SO = SOUTH, WE = WEST\n",
    "\n",
    "data_US1 = pd.read_csv('JTU00000000LDR.txt',delimiter = '|',skiprows=1)\n",
    "data_US2 = pd.read_csv('JTU00000000LDRb.txt',delimiter = '|',skiprows=1)\n",
    "\n",
    "clean_US1=data_US1.drop(0)\n",
    "clean_US2=data_US2.drop(0)\n",
    "\n",
    "clean_US1_df=pd.DataFrame(clean_US1)\n",
    "clean_US2_df=pd.DataFrame(clean_US2)\n",
    "\n",
    "# clean_AL1_df.columns\n",
    "\n",
    "renamed_US1_df = clean_US1_df.rename(columns={'Unnamed: 0': 'Unnamed_0', \n",
    "                                              '      series id       ': 'series_id', \n",
    "                                             ' year ': 'year',\n",
    "                                             ' period ':  'period',\n",
    "                                             '  value  ': 'value',\n",
    "                                             ' footnotes ': 'footnotes',\n",
    "                                             'Unnamed: 6': 'Unnamed_6'})\n",
    "\n",
    "renamed_US2_df = clean_US2_df.rename(columns={'Unnamed: 0': 'Unnamed_0', \n",
    "                                              '      series id       ': 'series_id', \n",
    "                                             ' year ': 'year',\n",
    "                                             ' period ':  'period',\n",
    "                                             '  value  ': 'value',\n",
    "                                             ' footnotes ': 'footnotes',\n",
    "                                             'Unnamed: 6': 'Unnamed_6'})\n",
    "\n",
    "\n",
    "renamed_US1_df=renamed_US1_df.drop(columns=['Unnamed_0', 'Unnamed_6', 'footnotes'])\n",
    "renamed_US2_df=renamed_US2_df.drop(columns=['Unnamed_0', 'Unnamed_6', 'footnotes'])\n",
    "\n",
    "\n",
    "US_layoffs_df = pd.concat([renamed_US2_df, renamed_US1_df], ignore_index=True)\n",
    "\n",
    "US_layoffs_df.dropna()\n",
    "\n",
    "US_layoffs_df.to_csv(\"csv_series/US_rate_layoffs.csv\", index=False, header=True)\n",
    "\n"
   ]
  },
  {
   "cell_type": "code",
   "execution_count": null,
   "metadata": {},
   "outputs": [],
   "source": [
    "# import pandas as pd\n",
    "# import numpy as np\n",
    "\n",
    "# # File to Load (Remember to Change These)\n",
    "# school_data_to_load = \"Resources/schools_complete.csv\"\n",
    "# student_data_to_load = \"Resources/students_complete.csv\"\n",
    "\n",
    "# # Read School and Student Data File and store into Pandas Data Frames\n",
    "# school_data = pd.read_csv(school_data_to_load)\n",
    "# student_data = pd.read_csv(student_data_to_load)"
   ]
  },
  {
   "cell_type": "code",
   "execution_count": null,
   "metadata": {},
   "outputs": [],
   "source": [
    "# import pandas as pd\n",
    "# >>> df = pd.DataFrame({‘name’: [‘Raphael’, ‘Donatello’],\n",
    "# ...                    ‘mask’: [‘red’, ‘purple’],\n",
    "# ...                    ‘weapon’: [‘sai’, ‘bo staff’]})\n",
    "# >>> df.to_csv(index=False)\n",
    "# ‘name,mask,weapon\\nRaphael,red,sai\\nDonatello,purple,bo staff\\n’"
   ]
  }
 ],
 "metadata": {
  "kernelspec": {
   "display_name": "Python 3",
   "language": "python",
   "name": "python3"
  },
  "language_info": {
   "codemirror_mode": {
    "name": "ipython",
    "version": 3
   },
   "file_extension": ".py",
   "mimetype": "text/x-python",
   "name": "python",
   "nbconvert_exporter": "python",
   "pygments_lexer": "ipython3",
   "version": "3.7.4"
  }
 },
 "nbformat": 4,
 "nbformat_minor": 2
}
